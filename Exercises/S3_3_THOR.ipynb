{
  "nbformat": 4,
  "nbformat_minor": 0,
  "metadata": {
    "colab": {
      "provenance": [],
      "include_colab_link": true
    },
    "kernelspec": {
      "name": "python3",
      "display_name": "Python 3"
    },
    "language_info": {
      "name": "python"
    }
  },
  "cells": [
    {
      "cell_type": "markdown",
      "metadata": {
        "id": "view-in-github",
        "colab_type": "text"
      },
      "source": [
        "<a href=\"https://colab.research.google.com/github/julia-walker/2022_ML_EES/blob/main/Exercises/S3_3_THOR.ipynb\" target=\"_parent\"><img src=\"https://colab.research.google.com/assets/colab-badge.svg\" alt=\"Open In Colab\"/></a>"
      ]
    },
    {
      "cell_type": "markdown",
      "source": [
        "<img src='https://unils-my.sharepoint.com/:i:/g/personal/tom_beucler_unil_ch/ESLP1e1BfUxKu-hchh7wZKcBZiG3bJnNbnt0PDDm3BK-9g?download=1'>\n",
        "\n",
        "<center> \n",
        "Photo Credits: <a href=\"https://unsplash.com/photos/zCMWw56qseM\">Sea Foam</a> by <a href=\"https://unsplash.com/@unstable_affliction\">Ivan Bandura</a> licensed under the <a href='https://unsplash.com/license'>Unsplash License</a> \n",
        "</center>\n",
        "\n",
        "\n",
        ">*A frequently asked question related to this work is “Which mixing processes matter most for climate?” As with many alluringly comprehensive sounding questions, the answer is “it depends.”* <br>\n",
        "> $\\qquad$ MacKinnon, Jennifer A., et al. <br>$\\qquad$\"Climate process team on internal wave–driven ocean mixing.\" <br>$\\qquad$ Bulletin of the American Meteorological Society 98.11 (2017): 2429-2454."
      ],
      "metadata": {
        "id": "dUurnKLqq1un"
      }
    },
    {
      "cell_type": "markdown",
      "source": [
        "In week 4's final notebook, we will perform clustering to identify regimes in data taken from the realistic numerical ocean model [Estimating the Circulation and Climate of the Ocean](https://www.ecco-group.org/products-ECCO-V4r4.htm). Sonnewald et al. point out that finding robust regimes is intractable with a naïve approach, so we will be using using reduced dimensionality data. \n",
        "\n",
        "It is worth pointing out, however, that the reduction was done with an equation instead of one of the algorithms we discussed this week. If you're interested in the full details, you can check out [Sonnewald et al. (2019)](https://doi.org/10.1029/2018EA000519)"
      ],
      "metadata": {
        "id": "yT4KFNrpZIfY"
      }
    },
    {
      "cell_type": "markdown",
      "source": [
        "# Setup"
      ],
      "metadata": {
        "id": "PHKbQVLOUC5v"
      }
    },
    {
      "cell_type": "markdown",
      "source": [
        "First, let's import a few common modules, ensure MatplotLib plots figures inline and prepare a function to save the figures. We also check that Python 3.5 or later is installed (although Python 2.x may work, it is deprecated so we strongly recommend you use Python 3 instead), as well as Scikit-Learn ≥0.20."
      ],
      "metadata": {
        "id": "4TxieA70pcLo"
      }
    },
    {
      "cell_type": "code",
      "execution_count": 7,
      "metadata": {
        "id": "S61_Smb9T6ad"
      },
      "outputs": [],
      "source": [
        "# Python ≥3.5 is required\n",
        "import sys\n",
        "assert sys.version_info >= (3, 5)\n",
        "\n",
        "# Scikit-Learn ≥0.20 is required\n",
        "import sklearn\n",
        "assert sklearn.__version__ >= \"0.20\"\n",
        "\n",
        "# Common imports\n",
        "import numpy as np\n",
        "import os\n",
        "import xarray as xr\n",
        "import pooch\n",
        "\n",
        "# to make this notebook's output stable across runs\n",
        "rnd_seed = 42\n",
        "rnd_gen = np.random.default_rng(rnd_seed)\n",
        "\n",
        "# To plot pretty figures\n",
        "%matplotlib inline\n",
        "import matplotlib as mpl\n",
        "import matplotlib.pyplot as plt\n",
        "mpl.rc('axes', labelsize=14)\n",
        "mpl.rc('xtick', labelsize=12)\n",
        "mpl.rc('ytick', labelsize=12)\n",
        "\n",
        "# Where to save the figures\n",
        "PROJECT_ROOT_DIR = \".\"\n",
        "CHAPTER_ID = \"dim_reduction\"\n",
        "IMAGES_PATH = os.path.join(PROJECT_ROOT_DIR, \"images\", CHAPTER_ID)\n",
        "os.makedirs(IMAGES_PATH, exist_ok=True)\n",
        "\n",
        "def save_fig(fig_id, tight_layout=True, fig_extension=\"png\", resolution=300):\n",
        "    path = os.path.join(IMAGES_PATH, fig_id + \".\" + fig_extension)\n",
        "    print(\"Saving figure\", fig_id)\n",
        "    if tight_layout:\n",
        "        plt.tight_layout()\n",
        "    plt.savefig(path, format=fig_extension, dpi=resolution)"
      ]
    },
    {
      "cell_type": "markdown",
      "source": [
        "Here we're going to import the [StandardScaler](https://duckduckgo.com/sklearn.preprocessing.standardscaler) function from scikit's preprocessing tools, import the [scikit clustering library](https://duckduckgo.com/sklearn.clustering), and set up the colormap that we will use when plotting."
      ],
      "metadata": {
        "id": "6vUFq1DYUqCx"
      }
    },
    {
      "cell_type": "code",
      "source": [
        "from sklearn.preprocessing import StandardScaler\n",
        "import sklearn.cluster as cluster\n",
        "\n",
        "from matplotlib.colors import LinearSegmentedColormap, ListedColormap\n",
        "colors = ['royalblue', 'cyan','yellow', 'orange', 'magenta', 'red']\n",
        "mycmap = ListedColormap(colors)"
      ],
      "metadata": {
        "id": "34PAL9TkUHd_"
      },
      "execution_count": 8,
      "outputs": []
    },
    {
      "cell_type": "markdown",
      "source": [
        "# Data Preprocessing"
      ],
      "metadata": {
        "id": "Fr46ZRUjpTzo"
      }
    },
    {
      "cell_type": "markdown",
      "source": [
        "The first thing we need to do is retrieve the list of files we'll be working on. We'll rely on pooch to access the files hosted on the cloud."
      ],
      "metadata": {
        "id": "O9QOXpKGpgt7"
      }
    },
    {
      "cell_type": "code",
      "source": [
        "# Retrieve the files from the cloud using Pooch.\n",
        "data_url = 'https://unils-my.sharepoint.com/:u:/g/personal/tom_beucler_unil_ch/EUYqUzpIjoJBui02QEo6q1wBSN1Zsi1ofE6I3G4B9LJn_Q?download=1'\n",
        "hash = '3f41661c7a087fa7d7af1d2a8baf95c065468f8a415b8514baedda2f5bc18bb5'\n",
        "\n",
        "files = pooch.retrieve(data_url, known_hash=hash, processor=pooch.Unzip())\n",
        "[print(filename) for filename in files];"
      ],
      "metadata": {
        "id": "nDNJnzOAfKE_",
        "colab": {
          "base_uri": "https://localhost:8080/"
        },
        "outputId": "cc0cfffb-8c45-4b61-b79c-96a294e83c84"
      },
      "execution_count": 9,
      "outputs": [
        {
          "output_type": "stream",
          "name": "stdout",
          "text": [
            "/root/.cache/pooch/8a10ee1ae6941d8b9bb543c954c793fa-EUYqUzpIjoJBui02QEo6q1wBSN1Zsi1ofE6I3G4B9LJn_Q.unzip/noiseMask.npy\n",
            "/root/.cache/pooch/8a10ee1ae6941d8b9bb543c954c793fa-EUYqUzpIjoJBui02QEo6q1wBSN1Zsi1ofE6I3G4B9LJn_Q.unzip/curlTau.npy\n",
            "/root/.cache/pooch/8a10ee1ae6941d8b9bb543c954c793fa-EUYqUzpIjoJBui02QEo6q1wBSN1Zsi1ofE6I3G4B9LJn_Q.unzip/BPT.npy\n",
            "/root/.cache/pooch/8a10ee1ae6941d8b9bb543c954c793fa-EUYqUzpIjoJBui02QEo6q1wBSN1Zsi1ofE6I3G4B9LJn_Q.unzip/curlA.npy\n",
            "/root/.cache/pooch/8a10ee1ae6941d8b9bb543c954c793fa-EUYqUzpIjoJBui02QEo6q1wBSN1Zsi1ofE6I3G4B9LJn_Q.unzip/curlCori.npy\n",
            "/root/.cache/pooch/8a10ee1ae6941d8b9bb543c954c793fa-EUYqUzpIjoJBui02QEo6q1wBSN1Zsi1ofE6I3G4B9LJn_Q.unzip/curlB.npy\n"
          ]
        }
      ]
    },
    {
      "cell_type": "markdown",
      "source": [
        "And now that we have a set of files to load, let's set up a dictionary with the variable names as keys and the data in numpy array format as the values."
      ],
      "metadata": {
        "id": "bZxAvW1gBbO1"
      }
    },
    {
      "cell_type": "code",
      "source": [
        "# Let's read in the variable names from the filepaths\n",
        "var_names = []\n",
        "[var_names.append(path.split('/')[-1][:-4]) for path in files]\n",
        "\n",
        "# And build a dictionary of the data variables keyed to the filenames\n",
        "data_dict = {}\n",
        "for idx, val in enumerate(var_names):\n",
        "    data_dict[val] = np.load(files[idx]).T\n",
        "\n",
        "#We'll print the name of the variable loaded and the associated shape \n",
        "[print(f'Varname: {item[0]:<15} Shape: {item[1].shape}') for item in data_dict.items()];"
      ],
      "metadata": {
        "id": "b8OmoBGHBkwG",
        "colab": {
          "base_uri": "https://localhost:8080/"
        },
        "outputId": "04ceb585-68c5-40f8-db3d-d61b7386481c"
      },
      "execution_count": 10,
      "outputs": [
        {
          "output_type": "stream",
          "name": "stdout",
          "text": [
            "Varname: noiseMask       Shape: (360, 720)\n",
            "Varname: curlTau         Shape: (360, 720)\n",
            "Varname: BPT             Shape: (360, 720)\n",
            "Varname: curlA           Shape: (360, 720)\n",
            "Varname: curlCori        Shape: (360, 720)\n",
            "Varname: curlB           Shape: (360, 720)\n"
          ]
        }
      ]
    },
    {
      "cell_type": "markdown",
      "source": [
        "We now have a dictionary that uses the filename as the key! Feel free to explore the data (e.g., loading the keys, checking the shape of the arrays, plotting)"
      ],
      "metadata": {
        "id": "RMbhwWTunLvz"
      }
    },
    {
      "cell_type": "code",
      "source": [
        "#Feel free to explore the data dictionary"
      ],
      "metadata": {
        "id": "rG2pgeH5pB4f"
      },
      "execution_count": 11,
      "outputs": []
    },
    {
      "cell_type": "markdown",
      "source": [
        "We're eventually going to have an array of cluster classes that we're going to use to label dynamic regimes in the ocean. Let's make an array full of NaN (not-a-number) values that has the same shape as our other variables and store it in the data dictionary. "
      ],
      "metadata": {
        "id": "xXwnzzbRtTYs"
      }
    },
    {
      "cell_type": "code",
      "source": [
        "data_dict['clusters'] = np.full_like(data_dict['BPT'],np.nan)"
      ],
      "metadata": {
        "id": "4VYRgr0cuHKg"
      },
      "execution_count": 12,
      "outputs": []
    },
    {
      "cell_type": "markdown",
      "source": [
        "### Reformatting as Xarray"
      ],
      "metadata": {
        "id": "pCumDPFEpFcf"
      }
    },
    {
      "cell_type": "markdown",
      "source": [
        "In the original paper, this data was loaded as numpy arrays. However, we'll take this opportunity to demonstrate the same procedure while relying on xarray. First, let's instantiate a blank dataset.<br><br>\n",
        "\n",
        "###**Q1) Make a blank xarray dataset.**<br>\n",
        "*Hint: Look at the xarray [documentation](https://duckduckgo.com/?q=xarray+dataset)*"
      ],
      "metadata": {
        "id": "vz_vQOCguax0"
      }
    },
    {
      "cell_type": "code",
      "source": [
        "# Make your blank dataset here! Instantiate the class without passing any parameters.\n",
        "\n",
        "ds= xr.Dataset()"
      ],
      "metadata": {
        "id": "JIPsLT6g-INq"
      },
      "execution_count": 13,
      "outputs": []
    },
    {
      "cell_type": "markdown",
      "source": [
        "<img src='https://unils-my.sharepoint.com/:i:/g/personal/tom_beucler_unil_ch/EZv_qqVz_h1Hio6Nq11ckScBb01bGb9jtNKzdqAg1TPrKQ?download=1'>\n",
        "<center> Image taken from the xarray <a href='https://xarray.pydata.org/en/stable/user-guide/data-structures.html#:~:text=Dataset-,xarray.,from%20the%20netCDF%20file%20format.'> <i>Data Structure documentation</i> </a> </center>\n",
        "\n",
        "In order to build the dataset, we're going to need a set of coordinate vectors that help us map out our data! For our data, we have two axes corresponding to longitude ($\\lambda$) and latitude ($\\phi$). \n",
        "\n",
        "We don't know much about how many lat/lon points we have, so let's explore one of the variables to make sense of the data the shape of one of the numpy arrays.\n",
        "\n",
        "###**Q2) Visualize the data using a plot and printing the shape of the data to the console output.**"
      ],
      "metadata": {
        "id": "jJK9Ud9tp3_r"
      }
    },
    {
      "cell_type": "code",
      "source": [
        "#Complete the code\n",
        "# Let's print out an image of the Bottom Pressure Torques (BPT)\n",
        "plt.imshow( data_dict['BPT'] , origin='lower')"
      ],
      "metadata": {
        "id": "Kiw2tAT1D6Ny",
        "colab": {
          "base_uri": "https://localhost:8080/",
          "height": 236
        },
        "outputId": "b5655329-fe72-42f2-f497-87bb002927c7"
      },
      "execution_count": 14,
      "outputs": [
        {
          "output_type": "execute_result",
          "data": {
            "text/plain": [
              "<matplotlib.image.AxesImage at 0x7f7de2f22bd0>"
            ]
          },
          "metadata": {},
          "execution_count": 14
        },
        {
          "output_type": "display_data",
          "data": {
            "text/plain": [
              "<Figure size 432x288 with 1 Axes>"
            ],
            "image/png": "[encoded data removed]"
          },
          "metadata": {
            "needs_background": "light"
          }
        }
      ]
    },
    {
      "cell_type": "code",
      "source": [
        "# It will also be useful to store and print out the shape of the data\n",
        "data_shape = data_dict['BPT'].shape\n",
        "print(data_shape)"
      ],
      "metadata": {
        "id": "k6E_4MivCoWQ",
        "colab": {
          "base_uri": "https://localhost:8080/"
        },
        "outputId": "ece178fe-3428-4ec7-84d0-a85030419fc9"
      },
      "execution_count": 15,
      "outputs": [
        {
          "output_type": "stream",
          "name": "stdout",
          "text": [
            "(360, 720)\n"
          ]
        }
      ]
    },
    {
      "cell_type": "markdown",
      "source": [
        "Now that we know how the resolution of our data, we can prepare a set of axis arrays. We will use these to organize the data we will feed into the dataset.\n",
        "\n",
        "###**Q3) Prepare the latitude and longitude arrays to be used as axes for our dataset**\n",
        "\n",
        "*Hint 1: You can build ordered numpy arrays using, e.g., [numpy.linspace](https://numpy.org/doc/stable/reference/generated/numpy.linspace.html) and [numpy.arange](https://numpy.org/doc/stable/reference/generated/numpy.arange.html)*\n",
        "\n",
        "*Hint 2: You can rely on the data_shape variable we loaded previously to know how many points you need along each axis*"
      ],
      "metadata": {
        "id": "aXyxepjm-N5z"
      }
    },
    {
      "cell_type": "code",
      "source": [
        "#Complete the code\n",
        "# Let's prepare the lat and lon axes for our data.\n",
        "lat = np.linspace(0,data_shape[0],360)\n",
        "lon = np.linspace(0,data_shape[1],720) "
      ],
      "metadata": {
        "id": "vwzO0ZWMNHKg"
      },
      "execution_count": 16,
      "outputs": []
    },
    {
      "cell_type": "markdown",
      "source": [
        "Now that we have the axes we need, we can build xarray [*data arrays*](https://xarray.pydata.org/en/stable/generated/xarray.DataArray.html) for each data variable. Since we'll be doing it several times, let's go ahead and defined a function that does this for us!\n",
        "\n",
        "###**Q4) Define a function that takes in: 1) an array name, 2) a numpy array, 3) a lat vector, and 4) a lon vector. The function should return a dataArray with lat-lon as the coordinate dimensions**"
      ],
      "metadata": {
        "id": "yxnAU_gjOqVo"
      }
    },
    {
      "cell_type": "code",
      "source": [
        "#Complete the code\n",
        "def np_to_xr(array_name, array, lat, lon):\n",
        "    #building the xarrray\n",
        "    da = xr.DataArray(data = array, # Data to be stored\n",
        "                  \n",
        "                  #set the name of dimensions for the dataArray \n",
        "                  dims = ['lat', 'lon'],\n",
        "                  \n",
        "                  #Set the dictionary pointing the name dimensions to np arrays \n",
        "                  coords = {'lat':lat,\n",
        "                            'lon':lon},\n",
        "                      \n",
        "                  name=array_name)\n",
        "    return da"
      ],
      "metadata": {
        "id": "7FCXLhYfPiQD"
      },
      "execution_count": 17,
      "outputs": []
    },
    {
      "cell_type": "markdown",
      "source": [
        "We're now ready to build our data array! Let's iterate through the items and merge our blank dataset with the data arrays we create.\n",
        "\n",
        "###**Q5) Build the dataset from the data dictionary**\n",
        "\n",
        "*Hint: We'll be using the xarray merge command to put everything together.*"
      ],
      "metadata": {
        "id": "l9xgQaM9Rrv1"
      }
    },
    {
      "cell_type": "code",
      "source": [
        "# The code in the notebook assumes you named your dataset ds. Change it to \n",
        "# whatever you used!\n",
        "\n",
        "# Complete the code\n",
        "for key, item in data_dict.items():\n",
        "    # Let's make use of our np_to_xr function to get the data as a dataArray\n",
        "    da = np_to_xr(key, item, lat, lon)\n",
        "\n",
        "    # Merge the dataSet with the dataArray here!\n",
        "    ds = xr.merge( [ds, da] )"
      ],
      "metadata": {
        "id": "4pLXUfvLSZKf"
      },
      "execution_count": 18,
      "outputs": []
    },
    {
      "cell_type": "markdown",
      "source": [
        "Congratulations! You should now have a nicely set up xarray dataset. This let's you access a ton of nice features, e.g.:\n",
        "> Data plotting by calling, e.g., `ds.BPT.plot.imshow(cmap='ocean')`\n",
        "> \n",
        "> Find statistical measures of all variables at once! (e.g.: `ds.std()`, `ds.mean()`)"
      ],
      "metadata": {
        "id": "aC1Gq_q7WEWc"
      }
    },
    {
      "cell_type": "code",
      "source": [
        "# Play around with the dataset here if you'd like :)"
      ],
      "metadata": {
        "id": "uag0JpWzaaS-"
      },
      "execution_count": 19,
      "outputs": []
    },
    {
      "cell_type": "markdown",
      "source": [
        "Now we want to find clusters of data considering each grid point as a datapoint with 5 dimensional data. However, we went through a lot of work to get the data nicely associated with a lat and lon - do we really want to undo that?\n",
        "\n",
        "Luckily, xarray develops foresaw the need to group dimensions together. Let's create a 'flat' version of our dataset using the [`stack`](https://xarray.pydata.org/en/stable/generated/xarray.DataArray.stack.html) method. Let's make a flattened version of our dataset.\n",
        "\n",
        "###**Q6) Store a flattened version of our dataset**\n",
        "\n",
        "*Hint 1: You'll need to pass a dictionary with the 'new' stacked dimension name as the key and the 'flattened' dimensions as the values.*\n",
        "\n",
        "*Hint 2: xarrays have a ['.values' attribute](https://xarray.pydata.org/en/stable/generated/xarray.DataArray.values.html) that return their data as a numpy array.*"
      ],
      "metadata": {
        "id": "vEfuD2O8aZ4w"
      }
    },
    {
      "cell_type": "code",
      "source": [
        "# Complete the code\n",
        "# Let's store the stacked version of our dataset\n",
        "stacked = ds.stack( { 'dim' :[ 'lat' , 'lon' ] } )"
      ],
      "metadata": {
        "id": "G4e2NDipb0Tr"
      },
      "execution_count": 20,
      "outputs": []
    },
    {
      "cell_type": "code",
      "source": [
        "# And verify the shape of our data\n",
        "print(stacked.to_array().values.shape)"
      ],
      "metadata": {
        "id": "UQt4-fFACtUm",
        "colab": {
          "base_uri": "https://localhost:8080/"
        },
        "outputId": "8ebafb96-0599-43a8-8d18-426a2315a9a7"
      },
      "execution_count": 21,
      "outputs": [
        {
          "output_type": "stream",
          "name": "stdout",
          "text": [
            "(7, 259200)\n"
          ]
        }
      ]
    },
    {
      "cell_type": "markdown",
      "source": [
        "So far we've ignored an important point - we're supposed to have 5 variables, not 6! As you may have guessed, `noiseMask` helps us throw away data we dont want (e.g., from land mass or bad pixels). \n",
        "\n",
        "We're now going to clean up the stacked dataset using the noise mask. Relax and read through the code, since there won't be a question in this part :) "
      ],
      "metadata": {
        "id": "MZGPnmooffKy"
      }
    },
    {
      "cell_type": "code",
      "source": [
        "# Let's redefine stacked as all the points where noiseMask = 1, since noisemask\n",
        "# is binary data.\n",
        "\n",
        "print(f'Dataset shape before processing: {stacked.to_array().values.shape}')\n",
        "\n",
        "print(\"Let's do some data cleaning!\")\n",
        "print(f'Points before cleaning: {len(stacked.BPT)}')\n",
        "stacked = stacked.where(stacked.noiseMask==1, drop=True)\n",
        "print(f'Points after cleaning: {len(stacked.BPT)}')"
      ],
      "metadata": {
        "id": "sbXscaE_fcOj",
        "colab": {
          "base_uri": "https://localhost:8080/"
        },
        "outputId": "e5903213-2ddb-4232-89f5-1c08d975241c"
      },
      "execution_count": 22,
      "outputs": [
        {
          "output_type": "stream",
          "name": "stdout",
          "text": [
            "Dataset shape before processing: (7, 259200)\n",
            "Let's do some data cleaning!\n",
            "Points before cleaning: 259200\n",
            "Points after cleaning: 149714\n"
          ]
        }
      ]
    },
    {
      "cell_type": "code",
      "source": [
        "# We also no longer need the noiseMask variable, so we can just drop it.\n",
        "\n",
        "print('And drop the noisemask variable...')\n",
        "print(f'Before dropping: {stacked.to_array().values.shape}')\n",
        "stacked = stacked.drop('noiseMask')\n",
        "print(f'Dataset shape after processing: {stacked.to_array().values.shape}')"
      ],
      "metadata": {
        "id": "crX5HoD3C3Ls",
        "colab": {
          "base_uri": "https://localhost:8080/"
        },
        "outputId": "34d38962-27d3-4c6e-f277-f5b5d3d45083"
      },
      "execution_count": 23,
      "outputs": [
        {
          "output_type": "stream",
          "name": "stdout",
          "text": [
            "And drop the noisemask variable...\n",
            "Before dropping: (7, 149714)\n",
            "Dataset shape after processing: (6, 149714)\n"
          ]
        }
      ]
    },
    {
      "cell_type": "markdown",
      "source": [
        "We now have several thousand points which we want to divide into clusters using the kmeans clustering algorithm (you can check out the documentation for scikit's implementation of kmeans [here](https://scikit-learn.org/stable/modules/generated/sklearn.cluster.KMeans.html)).\n",
        "\n",
        "You'll note that the algorithm expects the input data `X` to be fed as `(n_samples, n_features)`. This is the opposite of what we have! Let's go ahead and make a copy to a numpy array has the axes in the right order.\n",
        "\n",
        "You'll need xarray's [`.to_array()`](https://xarray.pydata.org/en/stable/generated/xarray.Dataset.to_array.html) method and [`.values`](https://xarray.pydata.org/en/stable/generated/xarray.DataArray.values.html) parameter, as well as numpy's [`.moveaxis`](https://numpy.org/doc/stable/reference/generated/numpy.moveaxis.html) method.\n",
        "\n",
        "###**Q7) Load the datapoints into a numpy array following the convention where the 0th axis corresponds to the samples and the 1st axis corresponds to the features.** "
      ],
      "metadata": {
        "id": "5Pol90vsU_wv"
      }
    },
    {
      "cell_type": "code",
      "source": [
        "# Complete the code\n",
        "input_data = np.moveaxis(stacked.drop('clusters').to_array().values,  # data to reshape\n",
        "                         0,          # source axis as integer, \n",
        "                         1)          # destination axis as integer"
      ],
      "metadata": {
        "id": "uu0AVVkPeTzC"
      },
      "execution_count": 37,
      "outputs": []
    },
    {
      "cell_type": "code",
      "source": [
        "# Does the input data look the way it's supposed to? Print the shape.\n",
        "print(input_data.shape)"
      ],
      "metadata": {
        "id": "Vi9GZ-XsC6Nd",
        "colab": {
          "base_uri": "https://localhost:8080/"
        },
        "outputId": "912ff901-2da7-4d96-e8cd-2dbb3c29d277"
      },
      "execution_count": 38,
      "outputs": [
        {
          "output_type": "stream",
          "name": "stdout",
          "text": [
            "(149714, 5)\n"
          ]
        }
      ]
    },
    {
      "cell_type": "markdown",
      "source": [
        "In previous classes we discussed the importance of the scaling the data before implementing our algorithms. Now that our data is all but ready to be fed into an algorithm, let's make sure that it's been scaled.\n",
        "\n",
        "###**Q8) Scale the input data**\n",
        "\n",
        "*Hint 1: Import the [`StandardScaler`](https://scikit-learn.org/stable/modules/generated/sklearn.preprocessing.StandardScaler.html) class from scikit and instantiate it*\n",
        "\n",
        "*Hint 2: Update the input array to the one returned by the [`.fit_transform(X)`](https://scikit-learn.org/stable/modules/generated/sklearn.preprocessing.StandardScaler.html#sklearn.preprocessing.StandardScaler.fit_transform) method*"
      ],
      "metadata": {
        "id": "AoZSkMieiL9O"
      }
    },
    {
      "cell_type": "code",
      "source": [
        "#Write your scaling code here\n",
        "from sklearn.preprocessing import StandardScaler\n",
        "scaling= StandardScaler()\n",
        "X = scaling.fit_transform(input_data)"
      ],
      "metadata": {
        "id": "D2sZPWf1ignO"
      },
      "execution_count": 39,
      "outputs": []
    },
    {
      "cell_type": "markdown",
      "source": [
        "Now we're finally ready to train our algorithm! Let's load up the kmeans model and find clusters in our data.\n",
        "\n",
        "###**Q9) Instantiate the kmeans clustering algorithm, and then fit it using 50 clusters, trying out 10 different initial centroids.**\n",
        "\n",
        "*Hint 1: `sklearn.cluster` was imported as `cluser` during the notebook setup! [Here is the scikit `KMeans` documentation](https://scikit-learn.org/stable/modules/generated/sklearn.cluster.KMeans.html).*\n",
        "\n",
        "*Hint 2: Use the `fit_predict` method to organize the data into clusters*\n",
        "\n",
        "*Warning! : Fitting the data may take some time (under a minute during the testing of the notebook)"
      ],
      "metadata": {
        "id": "_z3e6dU8rInv"
      }
    },
    {
      "cell_type": "code",
      "source": [
        "print(stacked)"
      ],
      "metadata": {
        "colab": {
          "base_uri": "https://localhost:8080/"
        },
        "id": "lXBHU60HmEWk",
        "outputId": "34fc29ce-fb3b-4d65-e4c3-d5545974cabb"
      },
      "execution_count": 40,
      "outputs": [
        {
          "output_type": "stream",
          "name": "stdout",
          "text": [
            "<xarray.Dataset>\n",
            "Dimensions:   (dim: 149714)\n",
            "Coordinates:\n",
            "  * dim       (dim) MultiIndex\n",
            "  - lat       (dim) float64 21.06 21.06 21.06 21.06 ... 360.0 360.0 360.0 360.0\n",
            "  - lon       (dim) float64 0.0 1.001 2.003 3.004 ... 717.0 718.0 719.0 720.0\n",
            "Data variables:\n",
            "    curlTau   (dim) float64 -5.138e-11 -1.638e-10 ... -1.358e-11 -1.348e-11\n",
            "    BPT       (dim) float64 -6.666e-10 9.296e-10 ... 3.496e-10 3.525e-10\n",
            "    curlA     (dim) float64 2.86e-10 -4.171e-10 ... 1.166e-10 1.146e-10\n",
            "    curlCori  (dim) float64 3.281e-10 -4.664e-10 ... -4.638e-10 -4.647e-10\n",
            "    curlB     (dim) float64 1.04e-10 1.175e-10 8.259e-11 ... 1.279e-11 1.27e-11\n",
            "    clusters  (dim) float64 nan nan nan nan nan nan ... nan nan nan nan nan nan\n"
          ]
        }
      ]
    },
    {
      "cell_type": "code",
      "source": [
        "# Complete the code\n",
        "kmeans = cluster.KMeans(n_clusters =50,  # Number of clusters\n",
        "                        random_state =42, # setting a random state\n",
        "                        n_init =10, # Number of initial centroid states to try\n",
        "                       verbose = 1)   # Verbosity so we know things are working"
      ],
      "metadata": {
        "id": "DtYyiksRrHPm"
      },
      "execution_count": 41,
      "outputs": []
    },
    {
      "cell_type": "code",
      "source": [
        "cluster_labels = kmeans.fit_predict(X[:,0:-1]) # Feed in out scaled input data!"
      ],
      "metadata": {
        "id": "ohuw1WFiC8kS",
        "colab": {
          "base_uri": "https://localhost:8080/"
        },
        "outputId": "d0da6800-3b71-4937-fedd-f63d7099179e"
      },
      "execution_count": 42,
      "outputs": [
        {
          "output_type": "stream",
          "name": "stdout",
          "text": [
            "Initialization complete\n",
            "Iteration 0, inertia 96225.06951650241\n",
            "Iteration 1, inertia 85651.0915076113\n",
            "Iteration 2, inertia 83393.77329939786\n",
            "Iteration 3, inertia 82206.99768912615\n",
            "Iteration 4, inertia 81388.76019840715\n",
            "Iteration 5, inertia 80779.48235162003\n",
            "Iteration 6, inertia 80355.2843263198\n",
            "Iteration 7, inertia 80122.35734476936\n",
            "Iteration 8, inertia 79929.07983210128\n",
            "Iteration 9, inertia 79738.79247086089\n",
            "Iteration 10, inertia 79582.13116541132\n",
            "Iteration 11, inertia 79437.48176478533\n",
            "Iteration 12, inertia 79284.25971518383\n",
            "Iteration 13, inertia 79120.40310775297\n",
            "Iteration 14, inertia 79003.83785494135\n",
            "Iteration 15, inertia 78896.94246292581\n",
            "Iteration 16, inertia 78808.91598356882\n",
            "Iteration 17, inertia 78741.0650398507\n",
            "Iteration 18, inertia 78684.79001568619\n",
            "Iteration 19, inertia 78640.52049055348\n",
            "Iteration 20, inertia 78603.74872364159\n",
            "Iteration 21, inertia 78561.08351165036\n",
            "Iteration 22, inertia 78522.78191253755\n",
            "Iteration 23, inertia 78496.63830095985\n",
            "Iteration 24, inertia 78486.36342099975\n",
            "Iteration 25, inertia 78476.11444019701\n",
            "Iteration 26, inertia 78465.48953599247\n",
            "Iteration 27, inertia 78456.5820561502\n",
            "Iteration 28, inertia 78450.87444853471\n",
            "Iteration 29, inertia 78444.83040523066\n",
            "Iteration 30, inertia 78437.26846567667\n",
            "Iteration 31, inertia 78430.13777418973\n",
            "Iteration 32, inertia 78420.72014279067\n",
            "Iteration 33, inertia 78412.3269393747\n",
            "Iteration 34, inertia 78406.19956861233\n",
            "Iteration 35, inertia 78399.83348176077\n",
            "Iteration 36, inertia 78395.84752118496\n",
            "Iteration 37, inertia 78393.08813231433\n",
            "Iteration 38, inertia 78391.0137942048\n",
            "Iteration 39, inertia 78389.66887665149\n",
            "Iteration 40, inertia 78388.49912483126\n",
            "Iteration 41, inertia 78387.67671645006\n",
            "Iteration 42, inertia 78386.72203694664\n",
            "Iteration 43, inertia 78385.13411549674\n",
            "Iteration 44, inertia 78379.95177233245\n",
            "Iteration 45, inertia 78370.12439890977\n",
            "Iteration 46, inertia 78361.09506888235\n",
            "Iteration 47, inertia 78353.47875763121\n",
            "Iteration 48, inertia 78341.53527263516\n",
            "Iteration 49, inertia 78313.98234575875\n",
            "Iteration 50, inertia 78289.62511038705\n",
            "Iteration 51, inertia 78279.98088163775\n",
            "Iteration 52, inertia 78274.75500854687\n",
            "Iteration 53, inertia 78268.92401340796\n",
            "Iteration 54, inertia 78260.68576545468\n",
            "Iteration 55, inertia 78253.13162901046\n",
            "Iteration 56, inertia 78245.49876380847\n",
            "Iteration 57, inertia 78237.44302157877\n",
            "Iteration 58, inertia 78227.90685726056\n",
            "Iteration 59, inertia 78219.19865031255\n",
            "Iteration 60, inertia 78209.40239651613\n",
            "Iteration 61, inertia 78196.58177264687\n",
            "Iteration 62, inertia 78184.65445992525\n",
            "Iteration 63, inertia 78163.89685263117\n",
            "Iteration 64, inertia 78147.33565309488\n",
            "Iteration 65, inertia 78138.7208697318\n",
            "Iteration 66, inertia 78134.18382717957\n",
            "Iteration 67, inertia 78128.69432660061\n",
            "Iteration 68, inertia 78123.40466810783\n",
            "Iteration 69, inertia 78116.3979470521\n",
            "Iteration 70, inertia 78108.88977337434\n",
            "Iteration 71, inertia 78097.74198654023\n",
            "Iteration 72, inertia 78084.47573834997\n",
            "Iteration 73, inertia 78070.16972742171\n",
            "Iteration 74, inertia 78033.98354601166\n",
            "Iteration 75, inertia 77984.22615816632\n",
            "Iteration 76, inertia 77951.11524231073\n",
            "Iteration 77, inertia 77915.93210343068\n",
            "Iteration 78, inertia 77867.29747772077\n",
            "Iteration 79, inertia 77828.96893643714\n",
            "Iteration 80, inertia 77785.1795095764\n",
            "Iteration 81, inertia 77737.50432037088\n",
            "Iteration 82, inertia 77704.2142485361\n",
            "Iteration 83, inertia 77691.2070772557\n",
            "Iteration 84, inertia 77680.47612784678\n",
            "Iteration 85, inertia 77662.66254768355\n",
            "Iteration 86, inertia 77639.90410969092\n",
            "Iteration 87, inertia 77625.29617817166\n",
            "Iteration 88, inertia 77610.31219929345\n",
            "Iteration 89, inertia 77600.41296396016\n",
            "Iteration 90, inertia 77593.37825957678\n",
            "Iteration 91, inertia 77587.13129538449\n",
            "Iteration 92, inertia 77581.77421068508\n",
            "Iteration 93, inertia 77577.50112681341\n",
            "Iteration 94, inertia 77572.09187927417\n",
            "Iteration 95, inertia 77567.46585409058\n",
            "Iteration 96, inertia 77563.45363408381\n",
            "Iteration 97, inertia 77559.8498099602\n",
            "Iteration 98, inertia 77555.85684752945\n",
            "Iteration 99, inertia 77550.70183923247\n",
            "Iteration 100, inertia 77547.3911126928\n",
            "Iteration 101, inertia 77545.65409009992\n",
            "Iteration 102, inertia 77543.47825037935\n",
            "Iteration 103, inertia 77541.79984008402\n",
            "Iteration 104, inertia 77540.67371792874\n",
            "Iteration 105, inertia 77539.63446804212\n",
            "Iteration 106, inertia 77537.8542790084\n",
            "Iteration 107, inertia 77536.39485815127\n",
            "Iteration 108, inertia 77535.31229038838\n",
            "Iteration 109, inertia 77533.18696830174\n",
            "Iteration 110, inertia 77531.92509789832\n",
            "Iteration 111, inertia 77530.88892255336\n",
            "Iteration 112, inertia 77530.54542884912\n",
            "Iteration 113, inertia 77530.07230132764\n",
            "Iteration 114, inertia 77529.58381443302\n",
            "Iteration 115, inertia 77528.89964338983\n",
            "Iteration 116, inertia 77528.10298748381\n",
            "Iteration 117, inertia 77527.790733708\n",
            "Iteration 118, inertia 77527.50911542031\n",
            "Iteration 119, inertia 77527.40475521493\n",
            "Converged at iteration 119: center shift 1.762434285355705e-05 within tolerance 0.00010000000000000025.\n",
            "Initialization complete\n",
            "Iteration 0, inertia 93423.29371395672\n",
            "Iteration 1, inertia 84375.56875097964\n",
            "Iteration 2, inertia 82526.7473981426\n",
            "Iteration 3, inertia 81611.58414820128\n",
            "Iteration 4, inertia 81043.71499072215\n",
            "Iteration 5, inertia 80734.62297616039\n",
            "Iteration 6, inertia 80512.29104456936\n",
            "Iteration 7, inertia 80366.31687751287\n",
            "Iteration 8, inertia 80263.16089013341\n",
            "Iteration 9, inertia 80201.29781500727\n",
            "Iteration 10, inertia 80144.1235291615\n",
            "Iteration 11, inertia 80096.0852939623\n",
            "Iteration 12, inertia 80060.40899383803\n",
            "Iteration 13, inertia 80029.10389825412\n",
            "Iteration 14, inertia 80000.2271855644\n",
            "Iteration 15, inertia 79967.38119992419\n",
            "Iteration 16, inertia 79934.48681362066\n",
            "Iteration 17, inertia 79906.87169720793\n",
            "Iteration 18, inertia 79888.50340661919\n",
            "Iteration 19, inertia 79875.99205426965\n",
            "Iteration 20, inertia 79869.53421170759\n",
            "Iteration 21, inertia 79863.84411710012\n",
            "Iteration 22, inertia 79858.0955803958\n",
            "Iteration 23, inertia 79852.84398872597\n",
            "Iteration 24, inertia 79846.71485334402\n",
            "Iteration 25, inertia 79840.0861939257\n",
            "Iteration 26, inertia 79834.90721497209\n",
            "Iteration 27, inertia 79825.33699106096\n",
            "Iteration 28, inertia 79812.93125104894\n",
            "Iteration 29, inertia 79796.95467461186\n",
            "Iteration 30, inertia 79777.32207064478\n",
            "Iteration 31, inertia 79746.043780452\n",
            "Iteration 32, inertia 79703.21173008827\n",
            "Iteration 33, inertia 79644.65750045521\n",
            "Iteration 34, inertia 79601.2610926335\n",
            "Iteration 35, inertia 79562.85213892565\n",
            "Iteration 36, inertia 79517.36816625061\n",
            "Iteration 37, inertia 79476.85312611023\n",
            "Iteration 38, inertia 79410.12088836322\n",
            "Iteration 39, inertia 79334.85388302419\n",
            "Iteration 40, inertia 79272.86246085794\n",
            "Iteration 41, inertia 79222.69442816233\n",
            "Iteration 42, inertia 79176.7282855961\n",
            "Iteration 43, inertia 79145.03205154857\n",
            "Iteration 44, inertia 79111.07607943665\n",
            "Iteration 45, inertia 79065.56643245759\n",
            "Iteration 46, inertia 79028.46604735604\n",
            "Iteration 47, inertia 78989.22732931159\n",
            "Iteration 48, inertia 78935.2524654601\n",
            "Iteration 49, inertia 78858.0625045727\n",
            "Iteration 50, inertia 78803.77413697349\n",
            "Iteration 51, inertia 78756.26724451498\n",
            "Iteration 52, inertia 78725.54809086198\n",
            "Iteration 53, inertia 78691.35801124565\n",
            "Iteration 54, inertia 78661.81161187714\n",
            "Iteration 55, inertia 78638.66334121184\n",
            "Iteration 56, inertia 78616.22904591044\n",
            "Iteration 57, inertia 78468.94638959273\n",
            "Iteration 58, inertia 78378.12221214357\n",
            "Iteration 59, inertia 78313.5722853723\n",
            "Iteration 60, inertia 78225.20458928074\n",
            "Iteration 61, inertia 78165.39157574982\n",
            "Iteration 62, inertia 78144.74323698839\n",
            "Iteration 63, inertia 78124.85453911709\n",
            "Iteration 64, inertia 78110.1868989954\n",
            "Iteration 65, inertia 78101.78837677425\n",
            "Iteration 66, inertia 78093.70980413056\n",
            "Iteration 67, inertia 78085.94188388763\n",
            "Iteration 68, inertia 78076.59114801961\n",
            "Iteration 69, inertia 78070.9454060339\n",
            "Iteration 70, inertia 78067.06562616167\n",
            "Iteration 71, inertia 78062.45290377746\n",
            "Iteration 72, inertia 78057.55322617576\n",
            "Iteration 73, inertia 78053.39613685315\n",
            "Iteration 74, inertia 78046.65840837167\n",
            "Iteration 75, inertia 78040.62912339155\n",
            "Iteration 76, inertia 78038.35269354544\n",
            "Iteration 77, inertia 78036.5972759048\n",
            "Iteration 78, inertia 78034.6348314051\n",
            "Iteration 79, inertia 78033.60728034154\n",
            "Iteration 80, inertia 78031.96358033374\n",
            "Iteration 81, inertia 78028.80093260747\n",
            "Iteration 82, inertia 78024.46973041803\n",
            "Iteration 83, inertia 78022.02618336731\n",
            "Iteration 84, inertia 78018.93590166036\n",
            "Iteration 85, inertia 78015.17109717685\n",
            "Iteration 86, inertia 78011.57080190275\n",
            "Iteration 87, inertia 78007.42800334144\n",
            "Iteration 88, inertia 78004.43004124612\n",
            "Iteration 89, inertia 78001.74818490812\n",
            "Iteration 90, inertia 77999.09508897798\n",
            "Iteration 91, inertia 77996.11336160742\n",
            "Iteration 92, inertia 77993.03680054583\n",
            "Iteration 93, inertia 77989.52382539542\n",
            "Iteration 94, inertia 77985.98080860145\n",
            "Iteration 95, inertia 77983.11904455393\n",
            "Iteration 96, inertia 77980.35899644172\n",
            "Iteration 97, inertia 77977.68802037564\n",
            "Iteration 98, inertia 77974.77486194883\n",
            "Iteration 99, inertia 77971.6821979479\n",
            "Iteration 100, inertia 77967.91894026268\n",
            "Iteration 101, inertia 77963.86609215743\n",
            "Iteration 102, inertia 77959.5622667053\n",
            "Iteration 103, inertia 77954.56267393405\n",
            "Iteration 104, inertia 77949.18413932488\n",
            "Iteration 105, inertia 77943.28042370948\n",
            "Iteration 106, inertia 77935.83441358608\n",
            "Iteration 107, inertia 77926.14568252649\n",
            "Iteration 108, inertia 77913.6072248877\n",
            "Iteration 109, inertia 77903.21292282362\n",
            "Iteration 110, inertia 77893.6881621166\n",
            "Iteration 111, inertia 77880.34252680086\n",
            "Iteration 112, inertia 77871.52035711933\n",
            "Iteration 113, inertia 77859.94421506132\n",
            "Iteration 114, inertia 77840.96354743469\n",
            "Iteration 115, inertia 77825.28715565796\n",
            "Iteration 116, inertia 77819.01459138558\n",
            "Iteration 117, inertia 77814.93163390853\n",
            "Iteration 118, inertia 77811.69611731672\n",
            "Iteration 119, inertia 77809.29734961917\n",
            "Iteration 120, inertia 77807.578853589\n",
            "Iteration 121, inertia 77805.84810787153\n",
            "Iteration 122, inertia 77804.6323673827\n",
            "Iteration 123, inertia 77803.63813640473\n",
            "Iteration 124, inertia 77802.68361381786\n",
            "Converged at iteration 124: center shift 9.505617370225574e-05 within tolerance 0.00010000000000000025.\n",
            "Initialization complete\n",
            "Iteration 0, inertia 90390.811782119\n",
            "Iteration 1, inertia 83250.74565245346\n",
            "Iteration 2, inertia 81359.84715578718\n",
            "Iteration 3, inertia 80414.5217011994\n",
            "Iteration 4, inertia 79982.03880697503\n",
            "Iteration 5, inertia 79740.53673988838\n",
            "Iteration 6, inertia 79564.26788394447\n",
            "Iteration 7, inertia 79452.57661471392\n",
            "Iteration 8, inertia 79356.6739610726\n",
            "Iteration 9, inertia 79266.85503978934\n",
            "Iteration 10, inertia 79213.90511262724\n",
            "Iteration 11, inertia 79145.83712777618\n",
            "Iteration 12, inertia 79088.60787423633\n",
            "Iteration 13, inertia 79026.84511980938\n",
            "Iteration 14, inertia 78973.41539394417\n",
            "Iteration 15, inertia 78915.07024861946\n",
            "Iteration 16, inertia 78867.58820994281\n",
            "Iteration 17, inertia 78834.3630059676\n",
            "Iteration 18, inertia 78808.48350473016\n",
            "Iteration 19, inertia 78779.34333048362\n",
            "Iteration 20, inertia 78759.29492272656\n",
            "Iteration 21, inertia 78743.21024755391\n",
            "Iteration 22, inertia 78721.51112676859\n",
            "Iteration 23, inertia 78698.55424547955\n",
            "Iteration 24, inertia 78670.98523272767\n",
            "Iteration 25, inertia 78626.8794147932\n",
            "Iteration 26, inertia 78589.33136808562\n",
            "Iteration 27, inertia 78538.11218682468\n",
            "Iteration 28, inertia 78510.10256064456\n",
            "Iteration 29, inertia 78487.23536416567\n",
            "Iteration 30, inertia 78451.91461325063\n",
            "Iteration 31, inertia 78398.56505478825\n",
            "Iteration 32, inertia 78353.45385498885\n",
            "Iteration 33, inertia 78322.8189065563\n",
            "Iteration 34, inertia 78303.18694761905\n",
            "Iteration 35, inertia 78283.71843744621\n",
            "Iteration 36, inertia 78271.07081743119\n",
            "Iteration 37, inertia 78258.48206847366\n",
            "Iteration 38, inertia 78248.02059549763\n",
            "Iteration 39, inertia 78239.99980018778\n",
            "Iteration 40, inertia 78233.89703598538\n",
            "Iteration 41, inertia 78229.08075485757\n",
            "Iteration 42, inertia 78225.33086098729\n",
            "Iteration 43, inertia 78223.12097900591\n",
            "Iteration 44, inertia 78220.73480510683\n",
            "Iteration 45, inertia 78219.27327251164\n",
            "Iteration 46, inertia 78217.94923295097\n",
            "Iteration 47, inertia 78216.96203497433\n",
            "Iteration 48, inertia 78215.11766750187\n",
            "Iteration 49, inertia 78214.16350804998\n",
            "Iteration 50, inertia 78213.33079360724\n",
            "Iteration 51, inertia 78212.19720602568\n",
            "Iteration 52, inertia 78210.69605651479\n",
            "Iteration 53, inertia 78208.92115587197\n",
            "Iteration 54, inertia 78207.6767405479\n",
            "Iteration 55, inertia 78206.55796585821\n",
            "Iteration 56, inertia 78205.3545242535\n",
            "Iteration 57, inertia 78204.37639701675\n",
            "Iteration 58, inertia 78203.89024437725\n",
            "Iteration 59, inertia 78203.59893937634\n",
            "Iteration 60, inertia 78203.35037658025\n",
            "Converged at iteration 60: center shift 3.3095127204095694e-05 within tolerance 0.00010000000000000025.\n",
            "Initialization complete\n",
            "Iteration 0, inertia 91479.17770887943\n",
            "Iteration 1, inertia 84236.54601419104\n",
            "Iteration 2, inertia 82379.99065131201\n",
            "Iteration 3, inertia 81469.02237188429\n",
            "Iteration 4, inertia 80813.27876175578\n",
            "Iteration 5, inertia 80289.33425918734\n",
            "Iteration 6, inertia 79840.53578215805\n",
            "Iteration 7, inertia 79510.91661057116\n",
            "Iteration 8, inertia 79266.76581936494\n",
            "Iteration 9, inertia 79048.2436417009\n",
            "Iteration 10, inertia 78908.42344083983\n",
            "Iteration 11, inertia 78772.25040124789\n",
            "Iteration 12, inertia 78661.7147387423\n",
            "Iteration 13, inertia 78585.65745828881\n",
            "Iteration 14, inertia 78525.58600171265\n",
            "Iteration 15, inertia 78468.66955198033\n",
            "Iteration 16, inertia 78415.59646274765\n",
            "Iteration 17, inertia 78367.57812348282\n",
            "Iteration 18, inertia 78328.15999243691\n",
            "Iteration 19, inertia 78296.43554478903\n",
            "Iteration 20, inertia 78261.64640972606\n",
            "Iteration 21, inertia 78238.84663407246\n",
            "Iteration 22, inertia 78211.41577728477\n",
            "Iteration 23, inertia 78184.39928441517\n",
            "Iteration 24, inertia 78158.74515538913\n",
            "Iteration 25, inertia 78137.07210262626\n",
            "Iteration 26, inertia 78122.98178650385\n",
            "Iteration 27, inertia 78110.06173434074\n",
            "Iteration 28, inertia 78097.44855699559\n",
            "Iteration 29, inertia 78086.54170589834\n",
            "Iteration 30, inertia 78076.5122079289\n",
            "Iteration 31, inertia 78060.1490378305\n",
            "Iteration 32, inertia 78046.59892836257\n",
            "Iteration 33, inertia 78034.8780454826\n",
            "Iteration 34, inertia 78019.59100397801\n",
            "Iteration 35, inertia 78006.53340131519\n",
            "Iteration 36, inertia 78000.5372061358\n",
            "Iteration 37, inertia 77983.81399456879\n",
            "Iteration 38, inertia 77978.87813945056\n",
            "Iteration 39, inertia 77976.32154260398\n",
            "Iteration 40, inertia 77973.90141851819\n",
            "Iteration 41, inertia 77972.17769614345\n",
            "Iteration 42, inertia 77970.16331854113\n",
            "Iteration 43, inertia 77967.64948074431\n",
            "Iteration 44, inertia 77965.02383867337\n",
            "Iteration 45, inertia 77963.11062620649\n",
            "Iteration 46, inertia 77961.18003686005\n",
            "Iteration 47, inertia 77958.73985883422\n",
            "Iteration 48, inertia 77956.0434135881\n",
            "Iteration 49, inertia 77953.96296923592\n",
            "Iteration 50, inertia 77952.01298825271\n",
            "Iteration 51, inertia 77949.00623643385\n",
            "Iteration 52, inertia 77944.75733578039\n",
            "Iteration 53, inertia 77943.87527260528\n",
            "Iteration 54, inertia 77943.2306808392\n",
            "Iteration 55, inertia 77942.3621941018\n",
            "Iteration 56, inertia 77941.66554775469\n",
            "Iteration 57, inertia 77940.96644450721\n",
            "Iteration 58, inertia 77940.16655974986\n",
            "Iteration 59, inertia 77939.47318297051\n",
            "Iteration 60, inertia 77938.77051457991\n",
            "Iteration 61, inertia 77938.18709500608\n",
            "Iteration 62, inertia 77937.67113169993\n",
            "Iteration 63, inertia 77937.42437825925\n",
            "Iteration 64, inertia 77937.21292184385\n",
            "Iteration 65, inertia 77937.05084387174\n",
            "Iteration 66, inertia 77936.95545274245\n",
            "Iteration 67, inertia 77936.80371473322\n",
            "Converged at iteration 67: center shift 3.365565250336293e-05 within tolerance 0.00010000000000000025.\n",
            "Initialization complete\n",
            "Iteration 0, inertia 94027.84999685643\n",
            "Iteration 1, inertia 85803.29481970677\n",
            "Iteration 2, inertia 83113.14640833686\n",
            "Iteration 3, inertia 81608.3081206049\n",
            "Iteration 4, inertia 80893.54916057824\n",
            "Iteration 5, inertia 80445.01824689562\n",
            "Iteration 6, inertia 80189.81874292882\n",
            "Iteration 7, inertia 80050.54003371854\n",
            "Iteration 8, inertia 79947.50366807991\n",
            "Iteration 9, inertia 79823.73756177821\n",
            "Iteration 10, inertia 79701.73487489889\n",
            "Iteration 11, inertia 79588.82764330428\n",
            "Iteration 12, inertia 79476.38086890163\n",
            "Iteration 13, inertia 79393.69220140736\n",
            "Iteration 14, inertia 79328.27207024406\n",
            "Iteration 15, inertia 79286.90926141088\n",
            "Iteration 16, inertia 79248.74184762285\n",
            "Iteration 17, inertia 79214.34434627391\n",
            "Iteration 18, inertia 79171.6376543819\n",
            "Iteration 19, inertia 79089.7174817078\n",
            "Iteration 20, inertia 79022.69738570397\n",
            "Iteration 21, inertia 78982.41515832301\n",
            "Iteration 22, inertia 78940.11539667912\n",
            "Iteration 23, inertia 78877.42823724824\n",
            "Iteration 24, inertia 78828.31222081355\n",
            "Iteration 25, inertia 78802.60235600229\n",
            "Iteration 26, inertia 78790.90592488283\n",
            "Iteration 27, inertia 78777.34069002591\n",
            "Iteration 28, inertia 78768.01789818027\n",
            "Iteration 29, inertia 78751.29561345305\n",
            "Iteration 30, inertia 78731.2360335786\n",
            "Iteration 31, inertia 78714.58950532367\n",
            "Iteration 32, inertia 78696.37930294717\n",
            "Iteration 33, inertia 78676.68655945247\n",
            "Iteration 34, inertia 78662.29685531478\n",
            "Iteration 35, inertia 78649.6731049026\n",
            "Iteration 36, inertia 78634.42448813263\n",
            "Iteration 37, inertia 78612.75710265497\n",
            "Iteration 38, inertia 78578.4693449453\n",
            "Iteration 39, inertia 78533.3312602484\n",
            "Iteration 40, inertia 78492.60109237739\n",
            "Iteration 41, inertia 78453.62427835501\n",
            "Iteration 42, inertia 78390.13780533403\n",
            "Iteration 43, inertia 78270.83918511862\n",
            "Iteration 44, inertia 78152.10345238079\n",
            "Iteration 45, inertia 78072.86724096871\n",
            "Iteration 46, inertia 78003.06555991834\n",
            "Iteration 47, inertia 77965.41962429322\n",
            "Iteration 48, inertia 77933.0431346767\n",
            "Iteration 49, inertia 77900.69206265185\n",
            "Iteration 50, inertia 77874.57122959293\n",
            "Iteration 51, inertia 77851.82215448479\n",
            "Iteration 52, inertia 77842.13549526982\n",
            "Iteration 53, inertia 77813.8457143718\n",
            "Iteration 54, inertia 77779.24731132775\n",
            "Iteration 55, inertia 77715.51523287134\n",
            "Iteration 56, inertia 77663.26450466634\n",
            "Iteration 57, inertia 77579.1841856287\n",
            "Iteration 58, inertia 77522.64216746995\n",
            "Iteration 59, inertia 77502.64961642453\n",
            "Iteration 60, inertia 77487.72291944479\n",
            "Iteration 61, inertia 77484.54011540783\n",
            "Iteration 62, inertia 77482.13341914708\n",
            "Iteration 63, inertia 77479.47432842066\n",
            "Iteration 64, inertia 77476.42321425793\n",
            "Iteration 65, inertia 77471.67834611666\n",
            "Iteration 66, inertia 77470.20632480025\n",
            "Iteration 67, inertia 77469.23418205197\n",
            "Iteration 68, inertia 77468.17522486122\n",
            "Iteration 69, inertia 77467.50293861245\n",
            "Iteration 70, inertia 77467.23710212132\n",
            "Iteration 71, inertia 77466.95891923794\n",
            "Iteration 72, inertia 77466.69287090332\n",
            "Converged at iteration 72: center shift 2.922012541480112e-05 within tolerance 0.00010000000000000025.\n",
            "Initialization complete\n",
            "Iteration 0, inertia 93754.94261376062\n",
            "Iteration 1, inertia 85114.66888899886\n",
            "Iteration 2, inertia 83051.5176963757\n",
            "Iteration 3, inertia 81912.08299292164\n",
            "Iteration 4, inertia 81100.52520899608\n",
            "Iteration 5, inertia 80609.44654342582\n",
            "Iteration 6, inertia 80266.81675790856\n",
            "Iteration 7, inertia 80043.9589004176\n",
            "Iteration 8, inertia 79870.4637751768\n",
            "Iteration 9, inertia 79719.75182232185\n",
            "Iteration 10, inertia 79489.06350557816\n",
            "Iteration 11, inertia 79356.51739921728\n",
            "Iteration 12, inertia 79287.74780295072\n",
            "Iteration 13, inertia 79186.56129092761\n",
            "Iteration 14, inertia 79063.93757054706\n",
            "Iteration 15, inertia 78978.83906336315\n",
            "Iteration 16, inertia 78951.18368515756\n",
            "Iteration 17, inertia 78918.97796295364\n",
            "Iteration 18, inertia 78882.3240146988\n",
            "Iteration 19, inertia 78829.39462897013\n",
            "Iteration 20, inertia 78779.03393387004\n",
            "Iteration 21, inertia 78754.17155564425\n",
            "Iteration 22, inertia 78740.99383697641\n",
            "Iteration 23, inertia 78703.13968708129\n",
            "Iteration 24, inertia 78659.78568059391\n",
            "Iteration 25, inertia 78648.90979082992\n",
            "Iteration 26, inertia 78640.72857603786\n",
            "Iteration 27, inertia 78625.60167556633\n",
            "Iteration 28, inertia 78611.04338863298\n",
            "Iteration 29, inertia 78598.44441397597\n",
            "Iteration 30, inertia 78584.583908233\n",
            "Iteration 31, inertia 78576.80996568534\n",
            "Iteration 32, inertia 78570.19065759292\n",
            "Iteration 33, inertia 78563.46087620388\n",
            "Iteration 34, inertia 78556.47365284408\n",
            "Iteration 35, inertia 78549.85472473457\n",
            "Iteration 36, inertia 78544.41587472883\n",
            "Iteration 37, inertia 78537.32361795969\n",
            "Iteration 38, inertia 78531.46266429877\n",
            "Iteration 39, inertia 78526.1428334074\n",
            "Iteration 40, inertia 78519.93126919463\n",
            "Iteration 41, inertia 78514.28845106851\n",
            "Iteration 42, inertia 78508.31447577763\n",
            "Iteration 43, inertia 78504.0250700527\n",
            "Iteration 44, inertia 78500.89681448575\n",
            "Iteration 45, inertia 78498.30894215991\n",
            "Iteration 46, inertia 78495.1075525956\n",
            "Iteration 47, inertia 78492.26796205746\n",
            "Iteration 48, inertia 78487.20283078999\n",
            "Iteration 49, inertia 78479.71018548035\n",
            "Iteration 50, inertia 78475.04763279765\n",
            "Iteration 51, inertia 78470.03429957708\n",
            "Iteration 52, inertia 78465.92527786933\n",
            "Iteration 53, inertia 78462.32915260203\n",
            "Iteration 54, inertia 78458.77642444096\n",
            "Iteration 55, inertia 78455.5938082506\n",
            "Iteration 56, inertia 78452.3471058661\n",
            "Iteration 57, inertia 78448.91747505171\n",
            "Iteration 58, inertia 78445.89680881474\n",
            "Iteration 59, inertia 78443.32283034835\n",
            "Iteration 60, inertia 78439.41403309461\n",
            "Iteration 61, inertia 78435.07067263468\n",
            "Iteration 62, inertia 78428.7824697765\n",
            "Iteration 63, inertia 78423.178719982\n",
            "Iteration 64, inertia 78418.81950307293\n",
            "Iteration 65, inertia 78414.81858092191\n",
            "Iteration 66, inertia 78409.09295531001\n",
            "Iteration 67, inertia 78400.14409437063\n",
            "Iteration 68, inertia 78391.82706519568\n",
            "Iteration 69, inertia 78386.39609812829\n",
            "Iteration 70, inertia 78379.73643179955\n",
            "Iteration 71, inertia 78368.41199477682\n",
            "Iteration 72, inertia 78357.51620581494\n",
            "Iteration 73, inertia 78342.69062618043\n",
            "Iteration 74, inertia 78328.45447199057\n",
            "Iteration 75, inertia 78316.78239591107\n",
            "Iteration 76, inertia 78303.36849209241\n",
            "Iteration 77, inertia 78287.30556846959\n",
            "Iteration 78, inertia 78271.98831110813\n",
            "Iteration 79, inertia 78257.87813666147\n",
            "Iteration 80, inertia 78246.79124771668\n",
            "Iteration 81, inertia 78242.76040123275\n",
            "Iteration 82, inertia 78240.27916378624\n",
            "Iteration 83, inertia 78236.9353351568\n",
            "Iteration 84, inertia 78232.31254835388\n",
            "Iteration 85, inertia 78227.01816759902\n",
            "Iteration 86, inertia 78223.6428851427\n",
            "Iteration 87, inertia 78221.17134191452\n",
            "Iteration 88, inertia 78219.75670886635\n",
            "Iteration 89, inertia 78218.61897824741\n",
            "Iteration 90, inertia 78218.16390048142\n",
            "Converged at iteration 90: center shift 7.197495860243557e-05 within tolerance 0.00010000000000000025.\n",
            "Initialization complete\n",
            "Iteration 0, inertia 92927.56940448994\n",
            "Iteration 1, inertia 83410.85356004638\n",
            "Iteration 2, inertia 81329.03292474675\n",
            "Iteration 3, inertia 80456.17828904433\n",
            "Iteration 4, inertia 80040.14559616047\n",
            "Iteration 5, inertia 79764.10507745312\n",
            "Iteration 6, inertia 79558.09802299552\n",
            "Iteration 7, inertia 79389.00165553903\n",
            "Iteration 8, inertia 79234.75861050043\n",
            "Iteration 9, inertia 79096.86205535967\n",
            "Iteration 10, inertia 78960.69735889883\n",
            "Iteration 11, inertia 78829.47287827866\n",
            "Iteration 12, inertia 78690.04170824323\n",
            "Iteration 13, inertia 78570.64156406512\n",
            "Iteration 14, inertia 78489.00153722441\n",
            "Iteration 15, inertia 78440.28780793917\n",
            "Iteration 16, inertia 78398.45842061176\n",
            "Iteration 17, inertia 78369.97161228559\n",
            "Iteration 18, inertia 78340.94870805586\n",
            "Iteration 19, inertia 78320.19311423479\n",
            "Iteration 20, inertia 78298.01272142079\n",
            "Iteration 21, inertia 78281.32570320537\n",
            "Iteration 22, inertia 78262.33580380282\n",
            "Iteration 23, inertia 78248.86344355259\n",
            "Iteration 24, inertia 78234.93654395957\n",
            "Iteration 25, inertia 78222.26741328111\n",
            "Iteration 26, inertia 78212.18936395273\n",
            "Iteration 27, inertia 78201.34376567\n",
            "Iteration 28, inertia 78192.24353345054\n",
            "Iteration 29, inertia 78183.13975314361\n",
            "Iteration 30, inertia 78167.52892924624\n",
            "Iteration 31, inertia 78153.37060821173\n",
            "Iteration 32, inertia 78141.54892137612\n",
            "Iteration 33, inertia 78135.37926162833\n",
            "Iteration 34, inertia 78127.00263749821\n",
            "Iteration 35, inertia 78117.83051373862\n",
            "Iteration 36, inertia 78110.4731341764\n",
            "Iteration 37, inertia 78102.44254696745\n",
            "Iteration 38, inertia 78093.44155300347\n",
            "Iteration 39, inertia 78082.71410955812\n",
            "Iteration 40, inertia 78075.09709404208\n",
            "Iteration 41, inertia 78069.65230373197\n",
            "Iteration 42, inertia 78060.85022086687\n",
            "Iteration 43, inertia 78047.70181829607\n",
            "Iteration 44, inertia 78041.54648813365\n",
            "Iteration 45, inertia 78037.82707076898\n",
            "Iteration 46, inertia 78033.42953063312\n",
            "Iteration 47, inertia 78029.6205181572\n",
            "Iteration 48, inertia 78027.07293210005\n",
            "Iteration 49, inertia 78025.4202431264\n",
            "Iteration 50, inertia 78022.62690166594\n",
            "Iteration 51, inertia 78021.26018445467\n",
            "Iteration 52, inertia 78020.7140852854\n",
            "Iteration 53, inertia 78020.14293582659\n",
            "Iteration 54, inertia 78019.53720842862\n",
            "Iteration 55, inertia 78018.89816007276\n",
            "Iteration 56, inertia 78018.42420676837\n",
            "Iteration 57, inertia 78017.38001720986\n",
            "Iteration 58, inertia 78016.29655164051\n",
            "Iteration 59, inertia 78015.18289203689\n",
            "Iteration 60, inertia 78014.81621974992\n",
            "Converged at iteration 60: center shift 9.293131467477323e-05 within tolerance 0.00010000000000000025.\n",
            "Initialization complete\n",
            "Iteration 0, inertia 94023.45730728685\n",
            "Iteration 1, inertia 85632.6382902926\n",
            "Iteration 2, inertia 83040.38965317438\n",
            "Iteration 3, inertia 81476.54063717888\n",
            "Iteration 4, inertia 80313.71618580235\n",
            "Iteration 5, inertia 79629.05244391528\n",
            "Iteration 6, inertia 79225.90842024429\n",
            "Iteration 7, inertia 78932.53667344149\n",
            "Iteration 8, inertia 78720.80263656251\n",
            "Iteration 9, inertia 78529.30124128924\n",
            "Iteration 10, inertia 78336.72690897922\n",
            "Iteration 11, inertia 78225.58701935167\n",
            "Iteration 12, inertia 78112.18482477359\n",
            "Iteration 13, inertia 78012.10326922836\n",
            "Iteration 14, inertia 77934.02846374526\n",
            "Iteration 15, inertia 77871.61914771165\n",
            "Iteration 16, inertia 77823.25504179919\n",
            "Iteration 17, inertia 77784.65250658104\n",
            "Iteration 18, inertia 77756.53656843358\n",
            "Iteration 19, inertia 77728.304559561\n",
            "Iteration 20, inertia 77699.00911363184\n",
            "Iteration 21, inertia 77670.10661244692\n",
            "Iteration 22, inertia 77652.08066942579\n",
            "Iteration 23, inertia 77636.76617380852\n",
            "Iteration 24, inertia 77616.96084024126\n",
            "Iteration 25, inertia 77593.16966584035\n",
            "Iteration 26, inertia 77574.65820113543\n",
            "Iteration 27, inertia 77561.02937125601\n",
            "Iteration 28, inertia 77549.46760103019\n",
            "Iteration 29, inertia 77538.11570444427\n",
            "Iteration 30, inertia 77526.50660817663\n",
            "Iteration 31, inertia 77513.49786742975\n",
            "Iteration 32, inertia 77500.70193769826\n",
            "Iteration 33, inertia 77488.66269041895\n",
            "Iteration 34, inertia 77473.7770335622\n",
            "Iteration 35, inertia 77458.25937583565\n",
            "Iteration 36, inertia 77444.6809740755\n",
            "Iteration 37, inertia 77427.73760208648\n",
            "Iteration 38, inertia 77412.18386512445\n",
            "Iteration 39, inertia 77396.35554560201\n",
            "Iteration 40, inertia 77381.75545618372\n",
            "Iteration 41, inertia 77366.16732067347\n",
            "Iteration 42, inertia 77349.0616264481\n",
            "Iteration 43, inertia 77335.05927721708\n",
            "Iteration 44, inertia 77322.66707138765\n",
            "Iteration 45, inertia 77309.66741448636\n",
            "Iteration 46, inertia 77295.8315109367\n",
            "Iteration 47, inertia 77279.8749769563\n",
            "Iteration 48, inertia 77263.23395390673\n",
            "Iteration 49, inertia 77249.74651701096\n",
            "Iteration 50, inertia 77240.32983841085\n",
            "Iteration 51, inertia 77231.73923710095\n",
            "Iteration 52, inertia 77224.16819400295\n",
            "Iteration 53, inertia 77217.16130772514\n",
            "Iteration 54, inertia 77213.29460800078\n",
            "Iteration 55, inertia 77208.68135930083\n",
            "Iteration 56, inertia 77203.67103274872\n",
            "Iteration 57, inertia 77199.21253050325\n",
            "Iteration 58, inertia 77195.43285482201\n",
            "Iteration 59, inertia 77192.25069067467\n",
            "Iteration 60, inertia 77190.05631688246\n",
            "Iteration 61, inertia 77188.32724707059\n",
            "Iteration 62, inertia 77186.58430726029\n",
            "Iteration 63, inertia 77183.56695982089\n",
            "Iteration 64, inertia 77181.82985971122\n",
            "Iteration 65, inertia 77180.04144999568\n",
            "Iteration 66, inertia 77178.28062133281\n",
            "Iteration 67, inertia 77177.28798299667\n",
            "Iteration 68, inertia 77176.51588643825\n",
            "Iteration 69, inertia 77175.93062932727\n",
            "Iteration 70, inertia 77175.22624190687\n",
            "Iteration 71, inertia 77174.55506190956\n",
            "Converged at iteration 71: center shift 8.914179189069591e-05 within tolerance 0.00010000000000000025.\n",
            "Initialization complete\n",
            "Iteration 0, inertia 93853.93783233891\n",
            "Iteration 1, inertia 84767.93722842971\n",
            "Iteration 2, inertia 82504.96620416263\n",
            "Iteration 3, inertia 81227.85844645055\n",
            "Iteration 4, inertia 80464.74425315262\n",
            "Iteration 5, inertia 79999.25561461246\n",
            "Iteration 6, inertia 79701.99370349204\n",
            "Iteration 7, inertia 79501.84406584431\n",
            "Iteration 8, inertia 79384.46126648002\n",
            "Iteration 9, inertia 79294.58688518128\n",
            "Iteration 10, inertia 79227.54964453456\n",
            "Iteration 11, inertia 79162.86151535535\n",
            "Iteration 12, inertia 79103.51773642209\n",
            "Iteration 13, inertia 79040.94988415169\n",
            "Iteration 14, inertia 78981.84335608357\n",
            "Iteration 15, inertia 78939.67283686933\n",
            "Iteration 16, inertia 78900.20146231409\n",
            "Iteration 17, inertia 78871.22434741218\n",
            "Iteration 18, inertia 78845.40592504437\n",
            "Iteration 19, inertia 78825.6037397733\n",
            "Iteration 20, inertia 78805.4377190905\n",
            "Iteration 21, inertia 78782.39042877177\n",
            "Iteration 22, inertia 78762.41818113474\n",
            "Iteration 23, inertia 78744.65619677803\n",
            "Iteration 24, inertia 78727.82884648634\n",
            "Iteration 25, inertia 78711.5543801255\n",
            "Iteration 26, inertia 78699.3149266688\n",
            "Iteration 27, inertia 78690.38655880086\n",
            "Iteration 28, inertia 78680.0361078672\n",
            "Iteration 29, inertia 78671.31026514238\n",
            "Iteration 30, inertia 78659.5943399948\n",
            "Iteration 31, inertia 78643.81383211003\n",
            "Iteration 32, inertia 78629.37786321493\n",
            "Iteration 33, inertia 78615.82793346114\n",
            "Iteration 34, inertia 78603.39126824682\n",
            "Iteration 35, inertia 78589.6278014521\n",
            "Iteration 36, inertia 78576.00625865388\n",
            "Iteration 37, inertia 78564.99559841673\n",
            "Iteration 38, inertia 78556.95768086254\n",
            "Iteration 39, inertia 78550.56356015973\n",
            "Iteration 40, inertia 78543.79441620942\n",
            "Iteration 41, inertia 78533.16773034478\n",
            "Iteration 42, inertia 78505.75171992085\n",
            "Iteration 43, inertia 78425.92450745427\n",
            "Iteration 44, inertia 78327.15857860062\n",
            "Iteration 45, inertia 78204.40828066331\n",
            "Iteration 46, inertia 78109.3990687523\n",
            "Iteration 47, inertia 78020.3363515202\n",
            "Iteration 48, inertia 77943.91053984428\n",
            "Iteration 49, inertia 77908.20216443519\n",
            "Iteration 50, inertia 77881.90396409508\n",
            "Iteration 51, inertia 77865.79748824704\n",
            "Iteration 52, inertia 77851.37650702053\n",
            "Iteration 53, inertia 77835.08983688643\n",
            "Iteration 54, inertia 77824.2550125388\n",
            "Iteration 55, inertia 77818.33586502493\n",
            "Iteration 56, inertia 77814.88457809006\n",
            "Iteration 57, inertia 77812.28565736473\n",
            "Iteration 58, inertia 77810.38731235803\n",
            "Iteration 59, inertia 77808.45848913166\n",
            "Iteration 60, inertia 77806.78870682174\n",
            "Iteration 61, inertia 77805.63949421237\n",
            "Iteration 62, inertia 77803.82538247839\n",
            "Iteration 63, inertia 77801.63677465498\n",
            "Iteration 64, inertia 77799.37335142055\n",
            "Iteration 65, inertia 77795.9689376547\n",
            "Iteration 66, inertia 77791.95247477885\n",
            "Iteration 67, inertia 77787.64255131046\n",
            "Iteration 68, inertia 77784.35394279315\n",
            "Iteration 69, inertia 77781.11193503354\n",
            "Iteration 70, inertia 77777.01320250357\n",
            "Iteration 71, inertia 77773.72258263228\n",
            "Iteration 72, inertia 77770.03773178953\n",
            "Iteration 73, inertia 77767.2020088551\n",
            "Iteration 74, inertia 77763.20108307376\n",
            "Iteration 75, inertia 77757.4032272993\n",
            "Iteration 76, inertia 77752.66362279531\n",
            "Iteration 77, inertia 77750.40450287166\n",
            "Iteration 78, inertia 77748.42302035503\n",
            "Iteration 79, inertia 77746.18441183146\n",
            "Iteration 80, inertia 77744.72516018772\n",
            "Iteration 81, inertia 77743.28046422402\n",
            "Iteration 82, inertia 77740.74148138729\n",
            "Iteration 83, inertia 77738.49478864486\n",
            "Iteration 84, inertia 77736.04899565986\n",
            "Iteration 85, inertia 77734.86607538027\n",
            "Iteration 86, inertia 77734.15445800974\n",
            "Iteration 87, inertia 77733.79985050671\n",
            "Converged at iteration 87: center shift 6.892914218565292e-05 within tolerance 0.00010000000000000025.\n",
            "Initialization complete\n",
            "Iteration 0, inertia 98013.36708596692\n",
            "Iteration 1, inertia 86949.49352358232\n",
            "Iteration 2, inertia 83406.25952782988\n",
            "Iteration 3, inertia 81324.30239696158\n",
            "Iteration 4, inertia 80115.78185950412\n",
            "Iteration 5, inertia 79413.28375762638\n",
            "Iteration 6, inertia 78958.62456046915\n",
            "Iteration 7, inertia 78639.18367535893\n",
            "Iteration 8, inertia 78453.6453369753\n",
            "Iteration 9, inertia 78316.52972290188\n",
            "Iteration 10, inertia 78214.47682701303\n",
            "Iteration 11, inertia 78127.88550788909\n",
            "Iteration 12, inertia 78057.04460004605\n",
            "Iteration 13, inertia 78002.78179374097\n",
            "Iteration 14, inertia 77952.65621803091\n",
            "Iteration 15, inertia 77914.05218941632\n",
            "Iteration 16, inertia 77883.53257817158\n",
            "Iteration 17, inertia 77855.08208073812\n",
            "Iteration 18, inertia 77827.04624939876\n",
            "Iteration 19, inertia 77798.88095342187\n",
            "Iteration 20, inertia 77772.52761309348\n",
            "Iteration 21, inertia 77747.10660498141\n",
            "Iteration 22, inertia 77721.89369775876\n",
            "Iteration 23, inertia 77700.1102873487\n",
            "Iteration 24, inertia 77674.02886710246\n",
            "Iteration 25, inertia 77656.27531543208\n",
            "Iteration 26, inertia 77639.50982338986\n",
            "Iteration 27, inertia 77625.18596112938\n",
            "Iteration 28, inertia 77611.37133370092\n",
            "Iteration 29, inertia 77599.38683362733\n",
            "Iteration 30, inertia 77590.00536209458\n",
            "Iteration 31, inertia 77581.5524179266\n",
            "Iteration 32, inertia 77574.5596722434\n",
            "Iteration 33, inertia 77569.88110275967\n",
            "Iteration 34, inertia 77566.61348076009\n",
            "Iteration 35, inertia 77563.006543646\n",
            "Iteration 36, inertia 77559.67911785282\n",
            "Iteration 37, inertia 77555.40798428006\n",
            "Iteration 38, inertia 77551.99475885113\n",
            "Iteration 39, inertia 77548.40956338025\n",
            "Iteration 40, inertia 77544.90877909538\n",
            "Iteration 41, inertia 77541.73000918391\n",
            "Iteration 42, inertia 77538.47421219396\n",
            "Iteration 43, inertia 77535.59700035168\n",
            "Iteration 44, inertia 77533.31683318163\n",
            "Iteration 45, inertia 77531.24180354754\n",
            "Iteration 46, inertia 77529.52950932895\n",
            "Iteration 47, inertia 77528.41501787907\n",
            "Iteration 48, inertia 77527.32546695006\n",
            "Iteration 49, inertia 77526.67513630583\n",
            "Converged at iteration 49: center shift 6.588310987056766e-05 within tolerance 0.00010000000000000025.\n"
          ]
        }
      ]
    },
    {
      "cell_type": "markdown",
      "source": [
        "We now have a set of cluster labels that group the data into 50 similar groups. Let's store it in our stacked dataset!"
      ],
      "metadata": {
        "id": "XZXYUggc8xex"
      }
    },
    {
      "cell_type": "code",
      "source": [
        "# Let's run this line\n",
        "stacked['clusters'].values = cluster_labels"
      ],
      "metadata": {
        "id": "aH0qNHM89GER"
      },
      "execution_count": 43,
      "outputs": []
    },
    {
      "cell_type": "markdown",
      "source": [
        "We now have a set of labels, but they're stored in a flattened array. Since we'd like to see the data as a map, we still have some work to do. Let's go back to a 2D representation of our values.\n",
        "\n",
        "###**Q10) Turn the flattened xarray back into a set of 2D fields**\n",
        "*Hint*: xarrays have an [`.unstack` method](https://xarray.pydata.org/en/stable/generated/xarray.DataArray.unstack.html) that you will find to be very useful for this."
      ],
      "metadata": {
        "id": "pFPN00oH9oI8"
      }
    },
    {
      "cell_type": "code",
      "source": [
        "# Complete the code:\n",
        "processed_ds = stacked.unstack()\n"
      ],
      "metadata": {
        "id": "lp1u28inKUNT"
      },
      "execution_count": 44,
      "outputs": []
    },
    {
      "cell_type": "markdown",
      "source": [
        "Now we have an unstacked dataset, and can now easily plot out the clusters we found!\n",
        "\n",
        "###**Q11) Plot the 'cluster' variable using the buil-in xarray function**\n",
        "*Hint: `.plot()` [link text](https://xarray.pydata.org/en/stable/generated/xarray.DataArray.plot.html) let's you access the xarray implementations of [`pcolormesh`](https://matplotlib.org/3.1.1/api/_as_gen/matplotlib.pyplot.pcolormesh.html) and [`imshow`](https://matplotlib.org/3.1.1/api/_as_gen/matplotlib.pyplot.imshow.html).*"
      ],
      "metadata": {
        "id": "y4w0zUDn8OOU"
      }
    },
    {
      "cell_type": "code",
      "source": [
        "xr.plot.pcolormesh(processed_ds['clusters'], figsize=(18,5), cmap=mycmap)\n"
      ],
      "metadata": {
        "id": "DLLCcgw_n3tu",
        "colab": {
          "base_uri": "https://localhost:8080/",
          "height": 359
        },
        "outputId": "a619626a-ec40-40a8-e5be-eabeda7d11c7"
      },
      "execution_count": 45,
      "outputs": [
        {
          "output_type": "execute_result",
          "data": {
            "text/plain": [
              "<matplotlib.collections.QuadMesh at 0x7f7ddd7f9d90>"
            ]
          },
          "metadata": {},
          "execution_count": 45
        },
        {
          "output_type": "display_data",
          "data": {
            "text/plain": [
              "<Figure size 1296x360 with 2 Axes>"
            ],
            "image/png": "[encoded data removed]"
          },
          "metadata": {
            "needs_background": "light"
          }
        }
      ]
    },
    {
      "cell_type": "markdown",
      "source": [
        "Compare your results to those from the paper:\n",
        "<img src='https://unils-my.sharepoint.com/:i:/g/personal/tom_beucler_unil_ch/EdLh6Ds0yVlFivyfIOXlV74B_G35dVz87GFagzylIG-gZA?download=1'>"
      ],
      "metadata": {
        "id": "sOja6JCxo45g"
      }
    },
    {
      "cell_type": "markdown",
      "source": [
        "We now want to find the 5 most common regimes, and group the rest. This isn't straightforward, so we've gone ahead and prepared the code for you. Run through it and try to understand what the code is doing!"
      ],
      "metadata": {
        "id": "HrLKLVWXtgeX"
      }
    },
    {
      "cell_type": "code",
      "source": [
        "# Make field filled with -1 vals so unprocessed points are easily retrieved.\n",
        "# Noise masked applied automatically by using previously found labels as base.\n",
        "processed_ds['final_clusters'] = (processed_ds.clusters * 0) - 1\n",
        "\n",
        "# Find the 5 most common cluster labels\n",
        "top_clusters = processed_ds.groupby('clusters').count().sortby('BPT').tail(5).clusters.values\n",
        "\n",
        "#Build the set of indices for the cluster data, used for rewriting cluster labels\n",
        "for idx, label in enumerate(top_clusters):\n",
        "    #Find the indices where the label is found\n",
        "    indices = (processed_ds.clusters == label)\n",
        "\n",
        "    processed_ds['final_clusters'].values[indices] = 4-idx\n",
        "\n",
        "# Set the remaining unlabeled regions to category 5 \"non-linear\"\n",
        "processed_ds['final_clusters'].values[processed_ds.final_clusters==-1] = 5\n",
        "\n",
        "# Plot the figure\n",
        "processed_ds.final_clusters.plot.imshow(cmap=mycmap, figsize=(18,8));"
      ],
      "metadata": {
        "id": "UO5OohbKptau",
        "colab": {
          "base_uri": "https://localhost:8080/",
          "height": 509
        },
        "outputId": "500f32f7-b678-42f6-acd5-06e0a4835f8f"
      },
      "execution_count": 46,
      "outputs": [
        {
          "output_type": "display_data",
          "data": {
            "text/plain": [
              "<Figure size 1296x576 with 2 Axes>"
            ],
            "image/png": "[encoded data removed]"
          },
          "metadata": {
            "needs_background": "light"
          }
        }
      ]
    },
    {
      "cell_type": "code",
      "source": [
        "# Feel free to use this space "
      ],
      "metadata": {
        "id": "IHSj9yRaUCSg"
      },
      "execution_count": null,
      "outputs": []
    },
    {
      "cell_type": "markdown",
      "source": [
        "Compare it to the regimes found in the paper:\n",
        "<img src='https://unils-my.sharepoint.com/:i:/g/personal/tom_beucler_unil_ch/EehuR9cUfaJImrw4DCAzDPoBiGuG7R3Ys6453Umi1cN_OQ?download=1'>\n",
        "\n"
      ],
      "metadata": {
        "id": "eEMmkpGkc1Xy"
      }
    },
    {
      "cell_type": "markdown",
      "source": [
        "The authors then went on to train neural networks ***to infer in-depth dynamics from data that is largely readily available from for example CMIP6 models, using NN methods to infer the source of predictive skill*** and ***to apply the trained Ensemble MLP to a climate model in order to assess circulation changes under global heating***. \n",
        "\n",
        "For our purposes, however, we will say goodbye to *THOR* at this point 😃"
      ],
      "metadata": {
        "id": "nbWgoD7bv8AH"
      }
    }
  ]
}